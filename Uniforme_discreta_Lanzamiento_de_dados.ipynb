{
  "nbformat": 4,
  "nbformat_minor": 0,
  "metadata": {
    "colab": {
      "provenance": []
    },
    "kernelspec": {
      "name": "python3",
      "display_name": "Python 3"
    },
    "language_info": {
      "name": "python"
    }
  },
  "cells": [
    {
      "cell_type": "markdown",
      "source": [
        "# Lanzamiento de dos dados"
      ],
      "metadata": {
        "id": "SM0l7A277ypa"
      }
    },
    {
      "cell_type": "markdown",
      "source": [
        "## Diccionarios:\n",
        "\n",
        "$$\\{\\text{key}:\\text{values}\\}.$$"
      ],
      "metadata": {
        "id": "EIBZkdR576uG"
      }
    },
    {
      "cell_type": "code",
      "execution_count": null,
      "metadata": {
        "id": "KKcnU6P7652a"
      },
      "outputs": [],
      "source": [
        "#Enrique Avila Torres.\n",
        "d = {'César': ['Masha', 'Mila', 'Sneg'],\n",
        "     'Omar': [10, 3, 23],\n",
        "     'Gal': [7.0, 5.0, 4.0]}"
      ]
    },
    {
      "cell_type": "code",
      "source": [
        "type(d)"
      ],
      "metadata": {
        "colab": {
          "base_uri": "https://localhost:8080/"
        },
        "id": "Z6sy_sPN9OjD",
        "outputId": "9e68b8ba-f859-42f3-857a-7eba3e16de21"
      },
      "execution_count": null,
      "outputs": [
        {
          "output_type": "execute_result",
          "data": {
            "text/plain": [
              "dict"
            ]
          },
          "metadata": {},
          "execution_count": 3
        }
      ]
    },
    {
      "cell_type": "code",
      "source": [
        "d.keys() ## llaves de un dictionario"
      ],
      "metadata": {
        "colab": {
          "base_uri": "https://localhost:8080/"
        },
        "id": "b-64lF3b9v5k",
        "outputId": "9f2c6996-20af-4836-9e0b-5fe08aa4f3b1"
      },
      "execution_count": null,
      "outputs": [
        {
          "output_type": "execute_result",
          "data": {
            "text/plain": [
              "dict_keys(['César', 'Omar', 'Gal'])"
            ]
          },
          "metadata": {},
          "execution_count": 4
        }
      ]
    },
    {
      "cell_type": "code",
      "source": [
        "d.values() ## valores de un dictionario"
      ],
      "metadata": {
        "colab": {
          "base_uri": "https://localhost:8080/"
        },
        "id": "B2fwQP00-wQI",
        "outputId": "458bb6ff-2021-4c9b-cb6e-880f48c5b7be"
      },
      "execution_count": null,
      "outputs": [
        {
          "output_type": "execute_result",
          "data": {
            "text/plain": [
              "dict_values([['Masha', 'Mila', 'Sneg'], [10, 3, 23], [7.0, 5.0, 4.0]])"
            ]
          },
          "metadata": {},
          "execution_count": 6
        }
      ]
    },
    {
      "cell_type": "code",
      "source": [
        "d.items()"
      ],
      "metadata": {
        "colab": {
          "base_uri": "https://localhost:8080/"
        },
        "id": "vOSmuedh-zjx",
        "outputId": "54b959f5-a065-4a3d-df9e-ecd28e4a5f58"
      },
      "execution_count": null,
      "outputs": [
        {
          "output_type": "execute_result",
          "data": {
            "text/plain": [
              "dict_items([('César', ['Masha', 'Mila', 'Sneg']), ('Omar', [10, 3, 23]), ('Gal', [7.0, 5.0, 4.0])])"
            ]
          },
          "metadata": {},
          "execution_count": 7
        }
      ]
    },
    {
      "cell_type": "markdown",
      "source": [
        "## Se lanzan dos dados justos:\n",
        "- $\\Omega = \\{1,2,3,4,5,6\\}\\times \\{1,2,3,4,5,6\\}$\n",
        "- $\\mathcal{F}=p(\\Omega)$.\n",
        "- Para $\\omega=(i,j)$ donde $i, j=1, \\dots, 6$\n",
        "$$\\mathbb{P}(\\{\\omega\\})=\\frac{1}{36}.$$\n",
        "\n",
        "\n",
        "-----\n",
        "\n",
        "## Vamos a definir a la siguiente variable aleatoria:\n",
        "\n",
        "\n",
        "$S$ es la variable aleatoria que cuenta la suma de las cara de los dados.\n",
        "\n",
        "$$S:\\Omega \\to R_{S}=\\{2,3,4,5,6,7,8,9,10,11,12\\}$$"
      ],
      "metadata": {
        "id": "HogOAZrG_4ec"
      }
    },
    {
      "cell_type": "markdown",
      "source": [
        "Para entender a la ley de la variable aleatoria, basta con entender a los siguientes datos\n",
        "\n",
        "$$\\{(k, \\mathbb{P}(S=k)) \\}_{k\\in R_{S}}.$$"
      ],
      "metadata": {
        "id": "osdhYt8VCqHh"
      }
    },
    {
      "cell_type": "markdown",
      "source": [
        "Veamos a $S$ como eventos. Sea $S_{n}$ el evento la suma de las caras es $n$."
      ],
      "metadata": {
        "id": "o2z78kmvDrTc"
      }
    },
    {
      "cell_type": "code",
      "source": [
        "from itertools import product\n",
        "from fractions import Fraction"
      ],
      "metadata": {
        "id": "UFu8QcFb-6pE"
      },
      "execution_count": 2,
      "outputs": []
    },
    {
      "cell_type": "code",
      "source": [
        "def P(A, Omega):\n",
        "  P = Fraction(len(A), len(Omega))\n",
        "  return P"
      ],
      "metadata": {
        "id": "4PDY07f4EJZd"
      },
      "execution_count": 12,
      "outputs": []
    },
    {
      "cell_type": "markdown",
      "source": [
        "$$S_{n}=\\{(i,j)\\in \\Omega : i+j = n \\}$$"
      ],
      "metadata": {
        "id": "SURPt2Q6EgVn"
      }
    },
    {
      "cell_type": "code",
      "source": [
        "S_2 = {(i,j) for i in range(1,7) for j in range(1,7) if i+j == 2}\n",
        "S_2"
      ],
      "metadata": {
        "colab": {
          "base_uri": "https://localhost:8080/"
        },
        "id": "4jGNZt0nEZYP",
        "outputId": "45d42057-6b49-44db-c3b7-eb770b36e060"
      },
      "execution_count": null,
      "outputs": [
        {
          "output_type": "execute_result",
          "data": {
            "text/plain": [
              "{(1, 1)}"
            ]
          },
          "metadata": {},
          "execution_count": 11
        }
      ]
    },
    {
      "cell_type": "code",
      "source": [
        "L = [i for i in range(1,7)]\n",
        "L\n",
        "Omega = set(product(L, repeat = 2))\n",
        "Omega"
      ],
      "metadata": {
        "colab": {
          "base_uri": "https://localhost:8080/"
        },
        "id": "RaBeYHvnFsCn",
        "outputId": "a2f28e79-6509-418a-8695-7563089dae96"
      },
      "execution_count": 4,
      "outputs": [
        {
          "output_type": "execute_result",
          "data": {
            "text/plain": [
              "{(1, 1),\n",
              " (1, 2),\n",
              " (1, 3),\n",
              " (1, 4),\n",
              " (1, 5),\n",
              " (1, 6),\n",
              " (2, 1),\n",
              " (2, 2),\n",
              " (2, 3),\n",
              " (2, 4),\n",
              " (2, 5),\n",
              " (2, 6),\n",
              " (3, 1),\n",
              " (3, 2),\n",
              " (3, 3),\n",
              " (3, 4),\n",
              " (3, 5),\n",
              " (3, 6),\n",
              " (4, 1),\n",
              " (4, 2),\n",
              " (4, 3),\n",
              " (4, 4),\n",
              " (4, 5),\n",
              " (4, 6),\n",
              " (5, 1),\n",
              " (5, 2),\n",
              " (5, 3),\n",
              " (5, 4),\n",
              " (5, 5),\n",
              " (5, 6),\n",
              " (6, 1),\n",
              " (6, 2),\n",
              " (6, 3),\n",
              " (6, 4),\n",
              " (6, 5),\n",
              " (6, 6)}"
            ]
          },
          "metadata": {},
          "execution_count": 4
        }
      ]
    },
    {
      "cell_type": "code",
      "source": [
        "S = {(i,j): i+j for i,j in Omega}\n",
        "\n",
        "S"
      ],
      "metadata": {
        "colab": {
          "base_uri": "https://localhost:8080/"
        },
        "id": "R5lVCpSJFZd_",
        "outputId": "09c7cc94-5fc6-4c4c-e28b-add5bde9f836"
      },
      "execution_count": 33,
      "outputs": [
        {
          "output_type": "execute_result",
          "data": {
            "text/plain": [
              "{(3, 4): 7,\n",
              " (4, 3): 7,\n",
              " (3, 1): 4,\n",
              " (5, 4): 9,\n",
              " (4, 6): 10,\n",
              " (5, 1): 6,\n",
              " (2, 2): 4,\n",
              " (1, 6): 7,\n",
              " (2, 5): 7,\n",
              " (1, 3): 4,\n",
              " (6, 2): 8,\n",
              " (6, 5): 11,\n",
              " (4, 2): 6,\n",
              " (4, 5): 9,\n",
              " (3, 3): 6,\n",
              " (5, 6): 11,\n",
              " (3, 6): 9,\n",
              " (5, 3): 8,\n",
              " (2, 4): 6,\n",
              " (1, 2): 3,\n",
              " (2, 1): 3,\n",
              " (1, 5): 6,\n",
              " (6, 1): 7,\n",
              " (6, 4): 10,\n",
              " (3, 2): 5,\n",
              " (4, 1): 5,\n",
              " (3, 5): 8,\n",
              " (5, 2): 7,\n",
              " (4, 4): 8,\n",
              " (5, 5): 10,\n",
              " (1, 1): 2,\n",
              " (1, 4): 5,\n",
              " (2, 3): 5,\n",
              " (2, 6): 8,\n",
              " (6, 6): 12,\n",
              " (6, 3): 9}"
            ]
          },
          "metadata": {},
          "execution_count": 33
        }
      ]
    },
    {
      "cell_type": "code",
      "source": [
        "from collections import defaultdict"
      ],
      "metadata": {
        "id": "3dPv-Fl3Ge3N"
      },
      "execution_count": 34,
      "outputs": []
    },
    {
      "cell_type": "code",
      "source": [
        "dS = defaultdict(set)\n",
        "dS"
      ],
      "metadata": {
        "colab": {
          "base_uri": "https://localhost:8080/"
        },
        "id": "_jQMCIFjHVAm",
        "outputId": "30cbe577-2ab1-4c83-a21f-79cc35b64ff7"
      },
      "execution_count": 35,
      "outputs": [
        {
          "output_type": "execute_result",
          "data": {
            "text/plain": [
              "defaultdict(set, {})"
            ]
          },
          "metadata": {},
          "execution_count": 35
        }
      ]
    },
    {
      "cell_type": "code",
      "source": [
        "for key, value in S.items():\n",
        "  dS[value].add(key)"
      ],
      "metadata": {
        "id": "LpKlLT8WHYnM"
      },
      "execution_count": 36,
      "outputs": []
    },
    {
      "cell_type": "code",
      "source": [
        "dS"
      ],
      "metadata": {
        "colab": {
          "base_uri": "https://localhost:8080/"
        },
        "id": "PvaaI9hZHv93",
        "outputId": "541c029c-4794-47ea-b7e2-98b3ecaa4691"
      },
      "execution_count": 37,
      "outputs": [
        {
          "output_type": "execute_result",
          "data": {
            "text/plain": [
              "defaultdict(set,\n",
              "            {7: {(1, 6), (2, 5), (3, 4), (4, 3), (5, 2), (6, 1)},\n",
              "             4: {(1, 3), (2, 2), (3, 1)},\n",
              "             9: {(3, 6), (4, 5), (5, 4), (6, 3)},\n",
              "             10: {(4, 6), (5, 5), (6, 4)},\n",
              "             6: {(1, 5), (2, 4), (3, 3), (4, 2), (5, 1)},\n",
              "             8: {(2, 6), (3, 5), (4, 4), (5, 3), (6, 2)},\n",
              "             11: {(5, 6), (6, 5)},\n",
              "             3: {(1, 2), (2, 1)},\n",
              "             5: {(1, 4), (2, 3), (3, 2), (4, 1)},\n",
              "             2: {(1, 1)},\n",
              "             12: {(6, 6)}})"
            ]
          },
          "metadata": {},
          "execution_count": 37
        }
      ]
    },
    {
      "cell_type": "code",
      "source": [
        "leyS = {k : P(A,Omega) for k , A in dS.items()}"
      ],
      "metadata": {
        "id": "OTdZFvaBI8S2"
      },
      "execution_count": 38,
      "outputs": []
    },
    {
      "cell_type": "code",
      "source": [
        "leyS"
      ],
      "metadata": {
        "colab": {
          "base_uri": "https://localhost:8080/"
        },
        "id": "_LueGNFJJn_A",
        "outputId": "2dad1f7f-ab06-453c-d758-31cdf467528c"
      },
      "execution_count": 39,
      "outputs": [
        {
          "output_type": "execute_result",
          "data": {
            "text/plain": [
              "{7: Fraction(1, 6),\n",
              " 4: Fraction(1, 12),\n",
              " 9: Fraction(1, 9),\n",
              " 10: Fraction(1, 12),\n",
              " 6: Fraction(5, 36),\n",
              " 8: Fraction(5, 36),\n",
              " 11: Fraction(1, 18),\n",
              " 3: Fraction(1, 18),\n",
              " 5: Fraction(1, 9),\n",
              " 2: Fraction(1, 36),\n",
              " 12: Fraction(1, 36)}"
            ]
          },
          "metadata": {},
          "execution_count": 39
        }
      ]
    },
    {
      "cell_type": "markdown",
      "source": [
        "## Introducción a pandas."
      ],
      "metadata": {
        "id": "ml1daaZaJ3bF"
      }
    },
    {
      "cell_type": "code",
      "source": [
        "import pandas as pd"
      ],
      "metadata": {
        "id": "7a_aCPDkJo2i"
      },
      "execution_count": 15,
      "outputs": []
    },
    {
      "cell_type": "code",
      "source": [
        "leyS = pd.Series(leyS)\n",
        "leyS = leyS.sort_index()"
      ],
      "metadata": {
        "id": "b4an6YTPKDcX"
      },
      "execution_count": 40,
      "outputs": []
    },
    {
      "cell_type": "code",
      "source": [
        "leyS"
      ],
      "metadata": {
        "colab": {
          "base_uri": "https://localhost:8080/"
        },
        "id": "jfWVPW-aKpjn",
        "outputId": "65b2aacb-d1df-446b-8cd9-3bfdd6c6bff1"
      },
      "execution_count": 41,
      "outputs": [
        {
          "output_type": "execute_result",
          "data": {
            "text/plain": [
              "2     1/36\n",
              "3     1/18\n",
              "4     1/12\n",
              "5      1/9\n",
              "6     5/36\n",
              "7      1/6\n",
              "8     5/36\n",
              "9      1/9\n",
              "10    1/12\n",
              "11    1/18\n",
              "12    1/36\n",
              "dtype: object"
            ]
          },
          "metadata": {},
          "execution_count": 41
        }
      ]
    },
    {
      "cell_type": "code",
      "source": [
        "leyS[10]"
      ],
      "metadata": {
        "colab": {
          "base_uri": "https://localhost:8080/"
        },
        "id": "jIHA1xW5KqWH",
        "outputId": "ed93a6f5-1930-4841-81bd-6cc4675974ee"
      },
      "execution_count": 42,
      "outputs": [
        {
          "output_type": "execute_result",
          "data": {
            "text/plain": [
              "Fraction(1, 12)"
            ]
          },
          "metadata": {},
          "execution_count": 42
        }
      ]
    },
    {
      "cell_type": "code",
      "source": [
        "#Sumatoria igual a 1\n",
        "sum_leyS = leyS.sum()\n",
        "sum_leyS"
      ],
      "metadata": {
        "colab": {
          "base_uri": "https://localhost:8080/"
        },
        "id": "zXJg2gJcZkN0",
        "outputId": "c1dd0f15-02df-41d1-8ae9-d7d881a13ce0"
      },
      "execution_count": 43,
      "outputs": [
        {
          "output_type": "execute_result",
          "data": {
            "text/plain": [
              "Fraction(1, 1)"
            ]
          },
          "metadata": {},
          "execution_count": 43
        }
      ]
    },
    {
      "cell_type": "markdown",
      "source": [
        "### Ejercicios:\n",
        "1.- Documenta tu colab.\n",
        "\n",
        "2.- Calcula la ley de las siguientes variables aleatorias:\n",
        "\n",
        "1.          - La diferencia de las caras sea mayor que $1$.\n",
        "\n",
        "    - La suma de las caras sea par.\n",
        "\n",
        "3.- Verifica, en cada caso, que $$\\sum_{k\\in R_{X}}\\mathbb{P}(X=x)=1.$$\n",
        "\n",
        "4.- Sube tu notebook a tu GitHub.\n",
        "\n"
      ],
      "metadata": {
        "id": "CDtDGWPpJzHQ"
      }
    },
    {
      "cell_type": "markdown",
      "source": [
        "### Ejercicio 1: La diferencia de las caras sea mayor que 1\n",
        "\n",
        "$$S_{n}=\\{(i,j)\\in \\Omega : abs(i-j) < 1  \\}$$"
      ],
      "metadata": {
        "id": "QetFhHsVT7SM"
      }
    },
    {
      "cell_type": "code",
      "source": [
        "#Sea crea el campo donde todos los posibles escenario que la diferencia de los dados sea menor a 1\n",
        "OmegaE1 = {(i,j) for i in range(1,7) for j in range(1,7) if abs(i-j) > 1 }\n",
        "OmegaE1"
      ],
      "metadata": {
        "colab": {
          "base_uri": "https://localhost:8080/"
        },
        "id": "t_RbzV73bGBr",
        "outputId": "61a54c19-fb6e-48dd-b570-924f623d54f8"
      },
      "execution_count": 65,
      "outputs": [
        {
          "output_type": "execute_result",
          "data": {
            "text/plain": [
              "{(1, 3),\n",
              " (1, 4),\n",
              " (1, 5),\n",
              " (1, 6),\n",
              " (2, 4),\n",
              " (2, 5),\n",
              " (2, 6),\n",
              " (3, 1),\n",
              " (3, 5),\n",
              " (3, 6),\n",
              " (4, 1),\n",
              " (4, 2),\n",
              " (4, 6),\n",
              " (5, 1),\n",
              " (5, 2),\n",
              " (5, 3),\n",
              " (6, 1),\n",
              " (6, 2),\n",
              " (6, 3),\n",
              " (6, 4)}"
            ]
          },
          "metadata": {},
          "execution_count": 65
        }
      ]
    },
    {
      "cell_type": "code",
      "source": [
        "#Se generan el campo de eventos\n",
        "E1 = {(i,j): i+j for i,j in OmegaE1}\n",
        "E1"
      ],
      "metadata": {
        "id": "h0QL00L0Kyem",
        "colab": {
          "base_uri": "https://localhost:8080/"
        },
        "outputId": "28e637ed-a194-4b8e-c0cf-4899465c749e"
      },
      "execution_count": 45,
      "outputs": [
        {
          "output_type": "execute_result",
          "data": {
            "text/plain": [
              "{(3, 1): 4,\n",
              " (4, 6): 10,\n",
              " (5, 1): 6,\n",
              " (1, 6): 7,\n",
              " (2, 5): 7,\n",
              " (1, 3): 4,\n",
              " (6, 2): 8,\n",
              " (4, 2): 6,\n",
              " (3, 6): 9,\n",
              " (5, 3): 8,\n",
              " (2, 4): 6,\n",
              " (1, 5): 6,\n",
              " (6, 1): 7,\n",
              " (6, 4): 10,\n",
              " (4, 1): 5,\n",
              " (3, 5): 8,\n",
              " (5, 2): 7,\n",
              " (1, 4): 5,\n",
              " (2, 6): 8,\n",
              " (6, 3): 9}"
            ]
          },
          "metadata": {},
          "execution_count": 45
        }
      ]
    },
    {
      "cell_type": "code",
      "source": [
        "#Se inicializa el set que tendra las probabilidades de ocurrencia\n",
        "from collections import defaultdict\n",
        "dE1 = defaultdict(set)\n",
        "dE1"
      ],
      "metadata": {
        "colab": {
          "base_uri": "https://localhost:8080/"
        },
        "id": "6X0KOvfkR4B2",
        "outputId": "6b3df16a-8383-47ad-def0-03212e807c36"
      },
      "execution_count": 46,
      "outputs": [
        {
          "output_type": "execute_result",
          "data": {
            "text/plain": [
              "defaultdict(set, {})"
            ]
          },
          "metadata": {},
          "execution_count": 46
        }
      ]
    },
    {
      "cell_type": "code",
      "source": [
        "#Se agrupa el set con las sumas como key y los tuples de eventos como value\n",
        "for key, value in E1.items():\n",
        "  dE1[value].add(key)"
      ],
      "metadata": {
        "id": "GfHCblSjS6US"
      },
      "execution_count": 47,
      "outputs": []
    },
    {
      "cell_type": "code",
      "source": [
        "dE1"
      ],
      "metadata": {
        "colab": {
          "base_uri": "https://localhost:8080/"
        },
        "id": "_8k0ycPMTFOQ",
        "outputId": "da51b667-9362-415c-860b-da7d0242d96a"
      },
      "execution_count": 48,
      "outputs": [
        {
          "output_type": "execute_result",
          "data": {
            "text/plain": [
              "defaultdict(set,\n",
              "            {4: {(1, 3), (3, 1)},\n",
              "             10: {(4, 6), (6, 4)},\n",
              "             6: {(1, 5), (2, 4), (4, 2), (5, 1)},\n",
              "             7: {(1, 6), (2, 5), (5, 2), (6, 1)},\n",
              "             8: {(2, 6), (3, 5), (5, 3), (6, 2)},\n",
              "             9: {(3, 6), (6, 3)},\n",
              "             5: {(1, 4), (4, 1)}})"
            ]
          },
          "metadata": {},
          "execution_count": 48
        }
      ]
    },
    {
      "cell_type": "code",
      "source": [
        "#Se obtiene la probabilidad de cada suma\n",
        "leyE1 = {k : P(A,OmegaE1) for k , A in dE1.items()}"
      ],
      "metadata": {
        "id": "1HflazH5TLFN"
      },
      "execution_count": 49,
      "outputs": []
    },
    {
      "cell_type": "code",
      "source": [
        "leyE1"
      ],
      "metadata": {
        "colab": {
          "base_uri": "https://localhost:8080/"
        },
        "id": "JRT5_AspTWw7",
        "outputId": "06ff82b3-f441-4719-f4e5-ee9c1b7afc93"
      },
      "execution_count": 50,
      "outputs": [
        {
          "output_type": "execute_result",
          "data": {
            "text/plain": [
              "{4: Fraction(1, 10),\n",
              " 10: Fraction(1, 10),\n",
              " 6: Fraction(1, 5),\n",
              " 7: Fraction(1, 5),\n",
              " 8: Fraction(1, 5),\n",
              " 9: Fraction(1, 10),\n",
              " 5: Fraction(1, 10)}"
            ]
          },
          "metadata": {},
          "execution_count": 50
        }
      ]
    },
    {
      "cell_type": "code",
      "source": [
        "#Se ordena con Pandas\n",
        "leyE1 = pd.Series(leyE1)\n",
        "leyE1 = leyE1.sort_index()"
      ],
      "metadata": {
        "id": "fRt85yWETh5X"
      },
      "execution_count": 52,
      "outputs": []
    },
    {
      "cell_type": "code",
      "source": [
        "leyE1"
      ],
      "metadata": {
        "colab": {
          "base_uri": "https://localhost:8080/"
        },
        "id": "rThC-z1pTyFx",
        "outputId": "6ef6d982-dd03-4e81-8b7b-9b4a24345c29"
      },
      "execution_count": 53,
      "outputs": [
        {
          "output_type": "execute_result",
          "data": {
            "text/plain": [
              "4     1/10\n",
              "5     1/10\n",
              "6      1/5\n",
              "7      1/5\n",
              "8      1/5\n",
              "9     1/10\n",
              "10    1/10\n",
              "dtype: object"
            ]
          },
          "metadata": {},
          "execution_count": 53
        }
      ]
    },
    {
      "cell_type": "code",
      "source": [
        "#Se verifica que la suma de probabilidades sea 1\n",
        "suma_leyE1 = leyE1.sum()\n",
        "suma_leyE1"
      ],
      "metadata": {
        "colab": {
          "base_uri": "https://localhost:8080/"
        },
        "id": "KUQz-FwXYqds",
        "outputId": "9c75eeb3-3b7c-4abd-b874-056694a2914e"
      },
      "execution_count": 54,
      "outputs": [
        {
          "output_type": "execute_result",
          "data": {
            "text/plain": [
              "Fraction(1, 1)"
            ]
          },
          "metadata": {},
          "execution_count": 54
        }
      ]
    },
    {
      "cell_type": "markdown",
      "source": [
        "### Ejercicio 2: La suma de las caras sea par.\n"
      ],
      "metadata": {
        "id": "wwiX8P9xUFFw"
      }
    },
    {
      "cell_type": "code",
      "source": [
        "#Sea crea el campo donde todos los posibles escenario donde la suma de los dados sea par\n",
        "OmegaE2 = {(i,j) for i in range(1,7) for j in range(1,7) if (i+j)%2 == 0 }\n",
        "OmegaE2"
      ],
      "metadata": {
        "colab": {
          "base_uri": "https://localhost:8080/"
        },
        "id": "2ieSyD1TfTaH",
        "outputId": "bfc3d360-2fc8-4c21-c125-6d58501f3a6c"
      },
      "execution_count": 66,
      "outputs": [
        {
          "output_type": "execute_result",
          "data": {
            "text/plain": [
              "{(1, 1),\n",
              " (1, 3),\n",
              " (1, 5),\n",
              " (2, 2),\n",
              " (2, 4),\n",
              " (2, 6),\n",
              " (3, 1),\n",
              " (3, 3),\n",
              " (3, 5),\n",
              " (4, 2),\n",
              " (4, 4),\n",
              " (4, 6),\n",
              " (5, 1),\n",
              " (5, 3),\n",
              " (5, 5),\n",
              " (6, 2),\n",
              " (6, 4),\n",
              " (6, 6)}"
            ]
          },
          "metadata": {},
          "execution_count": 66
        }
      ]
    },
    {
      "cell_type": "code",
      "source": [
        "#Se generan el campo de eventos\n",
        "E2 = {(i,j): i+j for i,j in Omega}\n",
        "E2"
      ],
      "metadata": {
        "colab": {
          "base_uri": "https://localhost:8080/"
        },
        "id": "kkL_YR2LT2NG",
        "outputId": "3d6dc106-6c3c-4d15-a525-ce722b73ebc3"
      },
      "execution_count": 56,
      "outputs": [
        {
          "output_type": "execute_result",
          "data": {
            "text/plain": [
              "{(3, 4): 7,\n",
              " (4, 3): 7,\n",
              " (3, 1): 4,\n",
              " (5, 4): 9,\n",
              " (4, 6): 10,\n",
              " (5, 1): 6,\n",
              " (2, 2): 4,\n",
              " (1, 6): 7,\n",
              " (2, 5): 7,\n",
              " (1, 3): 4,\n",
              " (6, 2): 8,\n",
              " (6, 5): 11,\n",
              " (4, 2): 6,\n",
              " (4, 5): 9,\n",
              " (3, 3): 6,\n",
              " (5, 6): 11,\n",
              " (3, 6): 9,\n",
              " (5, 3): 8,\n",
              " (2, 4): 6,\n",
              " (1, 2): 3,\n",
              " (2, 1): 3,\n",
              " (1, 5): 6,\n",
              " (6, 1): 7,\n",
              " (6, 4): 10,\n",
              " (3, 2): 5,\n",
              " (4, 1): 5,\n",
              " (3, 5): 8,\n",
              " (5, 2): 7,\n",
              " (4, 4): 8,\n",
              " (5, 5): 10,\n",
              " (1, 1): 2,\n",
              " (1, 4): 5,\n",
              " (2, 3): 5,\n",
              " (2, 6): 8,\n",
              " (6, 6): 12,\n",
              " (6, 3): 9}"
            ]
          },
          "metadata": {},
          "execution_count": 56
        }
      ]
    },
    {
      "cell_type": "code",
      "source": [
        "#Se inicializa el set que tendra las probabilidades de ocurrencia\n",
        "dE2 = defaultdict(set)\n",
        "dE2"
      ],
      "metadata": {
        "colab": {
          "base_uri": "https://localhost:8080/"
        },
        "id": "LHy6veBYUUb3",
        "outputId": "14db67f6-0156-4474-c606-31607c80513a"
      },
      "execution_count": 57,
      "outputs": [
        {
          "output_type": "execute_result",
          "data": {
            "text/plain": [
              "defaultdict(set, {})"
            ]
          },
          "metadata": {},
          "execution_count": 57
        }
      ]
    },
    {
      "cell_type": "code",
      "source": [
        "#Se agrupa el set con las sumas como key y los tuples de eventos como value\n",
        "for key, value in E2.items():\n",
        "  dE2[value].add(key)"
      ],
      "metadata": {
        "id": "XhvoRtWtUc56"
      },
      "execution_count": 58,
      "outputs": []
    },
    {
      "cell_type": "code",
      "source": [
        "dE2"
      ],
      "metadata": {
        "colab": {
          "base_uri": "https://localhost:8080/"
        },
        "id": "IwcTXobJUhWP",
        "outputId": "e5353dc9-5824-4f66-80cc-c0faaed814a3"
      },
      "execution_count": 59,
      "outputs": [
        {
          "output_type": "execute_result",
          "data": {
            "text/plain": [
              "defaultdict(set,\n",
              "            {7: {(1, 6), (2, 5), (3, 4), (4, 3), (5, 2), (6, 1)},\n",
              "             4: {(1, 3), (2, 2), (3, 1)},\n",
              "             9: {(3, 6), (4, 5), (5, 4), (6, 3)},\n",
              "             10: {(4, 6), (5, 5), (6, 4)},\n",
              "             6: {(1, 5), (2, 4), (3, 3), (4, 2), (5, 1)},\n",
              "             8: {(2, 6), (3, 5), (4, 4), (5, 3), (6, 2)},\n",
              "             11: {(5, 6), (6, 5)},\n",
              "             3: {(1, 2), (2, 1)},\n",
              "             5: {(1, 4), (2, 3), (3, 2), (4, 1)},\n",
              "             2: {(1, 1)},\n",
              "             12: {(6, 6)}})"
            ]
          },
          "metadata": {},
          "execution_count": 59
        }
      ]
    },
    {
      "cell_type": "code",
      "source": [
        "#Se obtiene la probabilidad de cada suma\n",
        "leyE2 = {k : P(A,Omega) for k , A in dE2.items()}"
      ],
      "metadata": {
        "id": "u7RothoqUjTR"
      },
      "execution_count": 60,
      "outputs": []
    },
    {
      "cell_type": "code",
      "source": [
        "leyE2"
      ],
      "metadata": {
        "colab": {
          "base_uri": "https://localhost:8080/"
        },
        "id": "Y4OVHW0AUoAl",
        "outputId": "440d2a7a-1f5c-4c16-fc6c-d3b22cd6d317"
      },
      "execution_count": 61,
      "outputs": [
        {
          "output_type": "execute_result",
          "data": {
            "text/plain": [
              "{7: Fraction(1, 6),\n",
              " 4: Fraction(1, 12),\n",
              " 9: Fraction(1, 9),\n",
              " 10: Fraction(1, 12),\n",
              " 6: Fraction(5, 36),\n",
              " 8: Fraction(5, 36),\n",
              " 11: Fraction(1, 18),\n",
              " 3: Fraction(1, 18),\n",
              " 5: Fraction(1, 9),\n",
              " 2: Fraction(1, 36),\n",
              " 12: Fraction(1, 36)}"
            ]
          },
          "metadata": {},
          "execution_count": 61
        }
      ]
    },
    {
      "cell_type": "code",
      "source": [
        "#Se ordena con Pandas\n",
        "leyE2 = pd.Series(leyE2)\n",
        "leyE2 = leyE2.sort_index()"
      ],
      "metadata": {
        "id": "7Of40MZYUp9w"
      },
      "execution_count": 62,
      "outputs": []
    },
    {
      "cell_type": "code",
      "source": [
        "leyE2"
      ],
      "metadata": {
        "colab": {
          "base_uri": "https://localhost:8080/"
        },
        "id": "kGBbhh6lUzkD",
        "outputId": "0422eac0-ee4c-47c2-8bbe-fe2f0ac715a6"
      },
      "execution_count": 63,
      "outputs": [
        {
          "output_type": "execute_result",
          "data": {
            "text/plain": [
              "2     1/36\n",
              "3     1/18\n",
              "4     1/12\n",
              "5      1/9\n",
              "6     5/36\n",
              "7      1/6\n",
              "8     5/36\n",
              "9      1/9\n",
              "10    1/12\n",
              "11    1/18\n",
              "12    1/36\n",
              "dtype: object"
            ]
          },
          "metadata": {},
          "execution_count": 63
        }
      ]
    },
    {
      "cell_type": "code",
      "source": [
        "# Se verifica que la suma de las probabilidades sea 1\n",
        "suma_leyE2 = leyE2.sum()\n",
        "suma_leyE2"
      ],
      "metadata": {
        "colab": {
          "base_uri": "https://localhost:8080/"
        },
        "id": "QCxKvIHDU1GI",
        "outputId": "944e4eb6-5705-4691-a38d-dfcff579b061"
      },
      "execution_count": 64,
      "outputs": [
        {
          "output_type": "execute_result",
          "data": {
            "text/plain": [
              "Fraction(1, 1)"
            ]
          },
          "metadata": {},
          "execution_count": 64
        }
      ]
    }
  ]
}